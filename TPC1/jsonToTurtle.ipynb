{
 "cells": [
  {
   "cell_type": "code",
   "execution_count": 1,
   "id": "honest-klein",
   "metadata": {},
   "outputs": [],
   "source": [
    "import pandas as pd \n",
    "\n",
    "#print(pd.__version__)\n",
    "\n",
    "data_json = pd.read_json('./dataset.json')\n",
    "profs = data_json[\"professores\"][0]\n",
    "ucs = data_json[\"ucs\"][0]\n",
    "alunos = data_json['alunos'][0]\n",
    "\n",
    "f = open('./uc_final.ttl',\"a\",encoding='utf-8')\n",
    "\n",
    "for p in profs:\n",
    "    f.write(':'+p['sigla']+' rdf:type owl:NamedIndividual ,\\n')\n",
    "    f.write('              :Professor ;\\n')\n",
    "    f.write('     :ensina :'+p['ucs']+' ;\\n')\n",
    "    f.write('     :nome \"'+p['nome']+'\" .\\n\\n')\n",
    "\n",
    "for uc in ucs:\n",
    "    f.write(':'+uc['sigla']+' rdf:type owl:NamedIndividual ,\\n')\n",
    "    f.write('                  :UnidadeCurricular ;\\n')\n",
    "    f.write('         :anoLetivo \"'+uc['ano']+'\" ;\\n')\n",
    "    f.write('         :designação \"'+uc['nome']+'\" .\\n\\n')\n",
    "\n",
    "for a in alunos:\n",
    "    ucs = a['ucs'].split(';')\n",
    "    f.write(':'+a['id']+' rdf:type owl:NamedIndividual ,\\n')\n",
    "    f.write('              :Aluno ;\\n')\n",
    "    if len(ucs)==1 :\n",
    "        f.write('        :frequenta :'+ucs[0]+' ;\\n')\n",
    "    else:\n",
    "        f.write('        :frequenta :'+ucs[0]+' ,\\n')\n",
    "        i=1\n",
    "        while i < len(ucs) :\n",
    "            if i+1 == len(ucs) : #Se for a ultima UC termina com ';'\n",
    "                f.write('                   :'+ucs[i]+' ;\\n')\n",
    "            else: #Se houver mais, termina com ','\n",
    "                f.write('                   :'+ucs[i]+' ,\\n')\n",
    "            i +=1 \n",
    "    f.write('        :nome \"'+a['nome']+'\" .\\n\\n')\n",
    "    \n",
    "f.close()\n",
    "\n"
   ]
  },
  {
   "cell_type": "code",
   "execution_count": null,
   "id": "aggregate-gallery",
   "metadata": {},
   "outputs": [],
   "source": []
  },
  {
   "cell_type": "code",
   "execution_count": null,
   "id": "acceptable-consultation",
   "metadata": {},
   "outputs": [],
   "source": []
  },
  {
   "cell_type": "code",
   "execution_count": null,
   "id": "described-growing",
   "metadata": {},
   "outputs": [],
   "source": []
  },
  {
   "cell_type": "code",
   "execution_count": null,
   "id": "seeing-strengthening",
   "metadata": {},
   "outputs": [],
   "source": []
  }
 ],
 "metadata": {
  "kernelspec": {
   "display_name": "Python 3",
   "language": "python",
   "name": "python3"
  },
  "language_info": {
   "codemirror_mode": {
    "name": "ipython",
    "version": 3
   },
   "file_extension": ".py",
   "mimetype": "text/x-python",
   "name": "python",
   "nbconvert_exporter": "python",
   "pygments_lexer": "ipython3",
   "version": "3.9.2"
  }
 },
 "nbformat": 4,
 "nbformat_minor": 5
}
