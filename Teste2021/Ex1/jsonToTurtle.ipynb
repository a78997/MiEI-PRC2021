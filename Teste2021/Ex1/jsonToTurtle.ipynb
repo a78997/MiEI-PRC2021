{
 "cells": [
  {
   "cell_type": "code",
   "execution_count": 56,
   "id": "married-oakland",
   "metadata": {},
   "outputs": [
    {
     "name": "stdout",
     "output_type": "stream",
     "text": [
      "Emily\n"
     ]
    }
   ],
   "source": [
    "import pandas as pd \n",
    "\n",
    "#print(pd.__version__)\n",
    "\n",
    "data_json = pd.read_json('./emd.json')\n",
    "#print(data_json.head) \n",
    "\n",
    "print(data_json['nome'][0]['primeiro'])"
   ]
  },
  {
   "cell_type": "code",
   "execution_count": 67,
   "id": "insured-scoop",
   "metadata": {},
   "outputs": [],
   "source": [
    "f = open('./emd_data.ttl',\"a\",encoding='utf-8')\n",
    "\n",
    "for i in range(100):\n",
    "    ### Atleta\n",
    "    f.write('###  http://www.di.uminho.pt/prc2021/emds#'+data_json['nome'][i]['primeiro']+'_'+data_json['nome'][0]['último']+'\\n')\n",
    "    f.write(':'+data_json['nome'][i]['primeiro']+'_'+data_json['nome'][i]['último']+' rdf:type owl:NamedIndividual ,\\n')\n",
    "    f.write('                    :Atleta ;\\n')\n",
    "    f.write('           :pertenceAoClube :'+data_json['clube'][i].replace(' ','_') +';\\n')\n",
    "    f.write('           :pratica :'+data_json['modalidade'][i]+' ;\\n')\n",
    "    f.write('           :temEmail \"'+data_json['email'][i]+'\" ;\\n')\n",
    "    f.write('           :temGénero \"'+data_json['género'][i]+'\" ;\\n')\n",
    "    f.write('           :temIdade '+str(data_json['idade'][i])+' ;\\n')\n",
    "    f.write('           :temMorada \"'+data_json['morada'][i]+'\" ;\\n')\n",
    "    f.write('           :temNome \"'+data_json['nome'][i]['primeiro']+' '+data_json['nome'][i]['último']+'\" ;\\n')\n",
    "    f.write('           :éFederado \"'+str(data_json['federado'][i])+'\"^^xsd:boolean .\\n\\n')\n",
    "    ### Modalidade\n",
    "    f.write('###  http://www.di.uminho.pt/prc2021/emds#'+data_json['modalidade'][i]+'\\n')\n",
    "    f.write(':'+data_json['modalidade'][i]+' rdf:type owl:NamedIndividual ,\\n')\n",
    "    f.write('              :Modalidade ;\\n')\n",
    "    f.write('     :éModalidadeDe :'+data_json['clube'][i].replace(' ','_') +' .\\n\\n')\n",
    "    ### Clube\n",
    "    f.write('###  http://www.di.uminho.pt/prc2021/emds#'+data_json['clube'][i] +'\\n')\n",
    "    f.write(':'+data_json['clube'][i].replace(' ','_') +' rdf:type owl:NamedIndividual ,\\n')\n",
    "    f.write('            :Clube .\\n\\n')      \n",
    "    ## EMD\n",
    "    f.write('###  http://www.di.uminho.pt/prc2021/emds#emd_'+str(data_json['index'][i]) +'\\n')\n",
    "    f.write(':emd_'+str(data_json['index'][i]) +' rdf:type owl:NamedIndividual ,\\n')\n",
    "    f.write('            :EMD ;\\n')\n",
    "    f.write('   :éExameDe :'+data_json['nome'][i]['primeiro']+'_'+data_json['nome'][i]['último']+' ;\\n')\n",
    "    f.write('   :Data \"'+data_json['dataEMD'][i]+'\" ;\\n')\n",
    "    f.write('   :Resultado \"'+str(data_json['resultado'][i])+'\"^^xsd:boolean .\\n\\n')\n",
    "    \n",
    "f.close()"
   ]
  },
  {
   "cell_type": "code",
   "execution_count": null,
   "id": "dense-appliance",
   "metadata": {},
   "outputs": [],
   "source": []
  },
  {
   "cell_type": "code",
   "execution_count": null,
   "id": "rubber-witness",
   "metadata": {},
   "outputs": [],
   "source": []
  },
  {
   "cell_type": "code",
   "execution_count": null,
   "id": "alternate-neighborhood",
   "metadata": {},
   "outputs": [],
   "source": []
  }
 ],
 "metadata": {
  "kernelspec": {
   "display_name": "Python 3",
   "language": "python",
   "name": "python3"
  },
  "language_info": {
   "codemirror_mode": {
    "name": "ipython",
    "version": 3
   },
   "file_extension": ".py",
   "mimetype": "text/x-python",
   "name": "python",
   "nbconvert_exporter": "python",
   "pygments_lexer": "ipython3",
   "version": "3.9.2"
  }
 },
 "nbformat": 4,
 "nbformat_minor": 5
}
