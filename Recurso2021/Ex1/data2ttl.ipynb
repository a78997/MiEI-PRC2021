{
 "cells": [
  {
   "cell_type": "code",
   "execution_count": 46,
   "metadata": {},
   "outputs": [
    {
     "name": "stdout",
     "output_type": "stream",
     "text": [
      "RangeIndex(start=0, stop=28795, step=1)\n"
     ]
    }
   ],
   "source": [
    "import pandas as pd\r\n",
    "data_json = pd.read_json('cinema.json')\r\n",
    "\r\n",
    "r = open('./cinema_data1.ttl',\"a\",encoding='utf-8')\r\n",
    "\r\n",
    "print(data_json.index)\r\n",
    "#for e in data_json:\r\n",
    "for i in data_json.index:\r\n",
    "        r.write('###  http://www.di.uminho.pt/prc2021/cinema-americano#filme'+str(i)+'\\n')\r\n",
    "        r.write(':filme'+str(i)+' rdf:type owl:NamedIndividual ,\\n')\r\n",
    "        r.write('             :Filme ;\\n')\r\n",
    "        for g in data_json['genres'][i] :\r\n",
    "            r.write(':temGénero :'+g.replace(\" \",\"_\")+' ;\\n')\r\n",
    "        \r\n",
    "        for a in data_json['cast'][i] :\r\n",
    "            if a == \".\" :\r\n",
    "                r.write(':éRealizadoPor :others ;\\n')\r\n",
    "            else :\r\n",
    "                r.write(':éRealizadoPor :'+a.replace(' ','_').replace(\"'\",\"_\").replace(\".\",\"\").replace('\"','').replace('[','').replace(']','').replace('(','').replace(')','').replace('|','').replace('&','and').replace(',','')+' ;\\n')\r\n",
    "        r.write(':ano '+ str(data_json['year'][i]) +' ;\\n')\r\n",
    "        r.write('    :título \"'+ str(data_json['title'][i].replace('\"','')) + '\" .\\n\\n')\r\n",
    "\r\n",
    "\r\n",
    "\r\n"
   ]
  }
 ],
 "metadata": {
  "interpreter": {
   "hash": "34c0a633f5ea653ba321498613e4953fb187f2d6f9f06bd1a9eb539ba98cb74b"
  },
  "kernelspec": {
   "display_name": "Python 3.9.2 64-bit",
   "name": "python3"
  },
  "language_info": {
   "codemirror_mode": {
    "name": "ipython",
    "version": 3
   },
   "file_extension": ".py",
   "mimetype": "text/x-python",
   "name": "python",
   "nbconvert_exporter": "python",
   "pygments_lexer": "ipython3",
   "version": "3.9.2"
  },
  "orig_nbformat": 4
 },
 "nbformat": 4,
 "nbformat_minor": 2
}